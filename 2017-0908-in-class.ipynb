{
 "cells": [
  {
   "cell_type": "markdown",
   "metadata": {},
   "source": [
    "# R의 기본 연산"
   ]
  },
  {
   "cell_type": "code",
   "execution_count": 1,
   "metadata": {},
   "outputs": [
    {
     "data": {
      "text/html": [
       "35"
      ],
      "text/latex": [
       "35"
      ],
      "text/markdown": [
       "35"
      ],
      "text/plain": [
       "[1] 35"
      ]
     },
     "metadata": {},
     "output_type": "display_data"
    }
   ],
   "source": [
    "15+20"
   ]
  },
  {
   "cell_type": "code",
   "execution_count": 2,
   "metadata": {},
   "outputs": [
    {
     "data": {
      "text/html": [
       "40"
      ],
      "text/latex": [
       "40"
      ],
      "text/markdown": [
       "40"
      ],
      "text/plain": [
       "[1] 40"
      ]
     },
     "metadata": {},
     "output_type": "display_data"
    }
   ],
   "source": [
    "60-20"
   ]
  },
  {
   "cell_type": "markdown",
   "metadata": {},
   "source": [
    "곱하기 기호는 *"
   ]
  },
  {
   "cell_type": "code",
   "execution_count": 3,
   "metadata": {},
   "outputs": [
    {
     "data": {
      "text/html": [
       "180"
      ],
      "text/latex": [
       "180"
      ],
      "text/markdown": [
       "180"
      ],
      "text/plain": [
       "[1] 180"
      ]
     },
     "metadata": {},
     "output_type": "display_data"
    }
   ],
   "source": [
    "60*3"
   ]
  },
  {
   "cell_type": "markdown",
   "metadata": {},
   "source": [
    "나누기 기호는 /"
   ]
  },
  {
   "cell_type": "code",
   "execution_count": 4,
   "metadata": {},
   "outputs": [
    {
     "data": {
      "text/html": [
       "15"
      ],
      "text/latex": [
       "15"
      ],
      "text/markdown": [
       "15"
      ],
      "text/plain": [
       "[1] 15"
      ]
     },
     "metadata": {},
     "output_type": "display_data"
    }
   ],
   "source": [
    "60/4"
   ]
  },
  {
   "cell_type": "code",
   "execution_count": 5,
   "metadata": {},
   "outputs": [
    {
     "data": {
      "text/html": [
       "16"
      ],
      "text/latex": [
       "16"
      ],
      "text/markdown": [
       "16"
      ],
      "text/plain": [
       "[1] 16"
      ]
     },
     "metadata": {},
     "output_type": "display_data"
    }
   ],
   "source": [
    "2^4"
   ]
  },
  {
   "cell_type": "code",
   "execution_count": 6,
   "metadata": {},
   "outputs": [
    {
     "data": {
      "text/html": [
       "16"
      ],
      "text/latex": [
       "16"
      ],
      "text/markdown": [
       "16"
      ],
      "text/plain": [
       "[1] 16"
      ]
     },
     "metadata": {},
     "output_type": "display_data"
    }
   ],
   "source": [
    "2*2*2*2"
   ]
  },
  {
   "cell_type": "code",
   "execution_count": 7,
   "metadata": {},
   "outputs": [
    {
     "data": {
      "text/html": [
       "243"
      ],
      "text/latex": [
       "243"
      ],
      "text/markdown": [
       "243"
      ],
      "text/plain": [
       "[1] 243"
      ]
     },
     "metadata": {},
     "output_type": "display_data"
    }
   ],
   "source": [
    "3^5"
   ]
  },
  {
   "cell_type": "code",
   "execution_count": 8,
   "metadata": {},
   "outputs": [
    {
     "data": {
      "text/html": [
       "16384"
      ],
      "text/latex": [
       "16384"
      ],
      "text/markdown": [
       "16384"
      ],
      "text/plain": [
       "[1] 16384"
      ]
     },
     "metadata": {},
     "output_type": "display_data"
    }
   ],
   "source": [
    "4^7"
   ]
  },
  {
   "cell_type": "code",
   "execution_count": 9,
   "metadata": {},
   "outputs": [
    {
     "data": {
      "text/html": [
       "1e+05"
      ],
      "text/latex": [
       "1e+05"
      ],
      "text/markdown": [
       "1e+05"
      ],
      "text/plain": [
       "[1] 1e+05"
      ]
     },
     "metadata": {},
     "output_type": "display_data"
    }
   ],
   "source": [
    "10^5"
   ]
  },
  {
   "cell_type": "code",
   "execution_count": 10,
   "metadata": {},
   "outputs": [
    {
     "data": {
      "text/html": [
       "8"
      ],
      "text/latex": [
       "8"
      ],
      "text/markdown": [
       "8"
      ],
      "text/plain": [
       "[1] 8"
      ]
     },
     "metadata": {},
     "output_type": "display_data"
    }
   ],
   "source": [
    "2^3"
   ]
  },
  {
   "cell_type": "markdown",
   "metadata": {},
   "source": [
    "## Vector란?"
   ]
  },
  {
   "cell_type": "markdown",
   "metadata": {},
   "source": [
    "동일한 성격의 수(element)의 연결, 단순하게 표현하면 여러 데이터의 결합\n",
    "\n",
    "합쳐진? **concatenate(결합)** 이렇게 표현함\n",
    "```{r}\n",
    "c()\n",
    "```"
   ]
  },
  {
   "cell_type": "code",
   "execution_count": 11,
   "metadata": {},
   "outputs": [
    {
     "data": {
      "text/html": [
       "<ol class=list-inline>\n",
       "\t<li>1</li>\n",
       "\t<li>2</li>\n",
       "\t<li>3</li>\n",
       "</ol>\n"
      ],
      "text/latex": [
       "\\begin{enumerate*}\n",
       "\\item 1\n",
       "\\item 2\n",
       "\\item 3\n",
       "\\end{enumerate*}\n"
      ],
      "text/markdown": [
       "1. 1\n",
       "2. 2\n",
       "3. 3\n",
       "\n",
       "\n"
      ],
      "text/plain": [
       "[1] 1 2 3"
      ]
     },
     "metadata": {},
     "output_type": "display_data"
    }
   ],
   "source": [
    "c(1,2,3)"
   ]
  },
  {
   "cell_type": "code",
   "execution_count": 12,
   "metadata": {},
   "outputs": [
    {
     "data": {
      "text/html": [
       "<ol class=list-inline>\n",
       "\t<li>10</li>\n",
       "\t<li>20</li>\n",
       "\t<li>30</li>\n",
       "\t<li>40</li>\n",
       "</ol>\n"
      ],
      "text/latex": [
       "\\begin{enumerate*}\n",
       "\\item 10\n",
       "\\item 20\n",
       "\\item 30\n",
       "\\item 40\n",
       "\\end{enumerate*}\n"
      ],
      "text/markdown": [
       "1. 10\n",
       "2. 20\n",
       "3. 30\n",
       "4. 40\n",
       "\n",
       "\n"
      ],
      "text/plain": [
       "[1] 10 20 30 40"
      ]
     },
     "metadata": {},
     "output_type": "display_data"
    }
   ],
   "source": [
    "c(10,20,30,40)"
   ]
  },
  {
   "cell_type": "markdown",
   "metadata": {},
   "source": [
    "합치다는 의미의 함수는 sum()"
   ]
  },
  {
   "cell_type": "code",
   "execution_count": 13,
   "metadata": {},
   "outputs": [
    {
     "data": {
      "text/html": [
       "6"
      ],
      "text/latex": [
       "6"
      ],
      "text/markdown": [
       "6"
      ],
      "text/plain": [
       "[1] 6"
      ]
     },
     "metadata": {},
     "output_type": "display_data"
    }
   ],
   "source": [
    "sum(c(1,2,3))"
   ]
  },
  {
   "cell_type": "code",
   "execution_count": 14,
   "metadata": {},
   "outputs": [
    {
     "data": {
      "text/html": [
       "153.5"
      ],
      "text/latex": [
       "153.5"
      ],
      "text/markdown": [
       "153.5"
      ],
      "text/plain": [
       "[1] 153.5"
      ]
     },
     "metadata": {},
     "output_type": "display_data"
    }
   ],
   "source": [
    "sum(c(10,20,2,100,5,6,10.5))"
   ]
  },
  {
   "cell_type": "markdown",
   "metadata": {},
   "source": [
    "c()로 표현된 vector는 **자료**로 생각할 수 있다."
   ]
  },
  {
   "cell_type": "code",
   "execution_count": 15,
   "metadata": {
    "collapsed": true
   },
   "outputs": [],
   "source": [
    "math_score=c(95,99,87,85,99,60,55)"
   ]
  },
  {
   "cell_type": "markdown",
   "metadata": {},
   "source": [
    "우리는 math_score라는 자료를 생성했다."
   ]
  },
  {
   "cell_type": "markdown",
   "metadata": {},
   "source": [
    "함수 length()는 벡터의 길이를 반환(return)한다. 반환이란? 결과값을 돌려준다(변수에 저장할 수 있도록 함)"
   ]
  },
  {
   "cell_type": "code",
   "execution_count": 16,
   "metadata": {},
   "outputs": [
    {
     "data": {
      "text/html": [
       "7"
      ],
      "text/latex": [
       "7"
      ],
      "text/markdown": [
       "7"
      ],
      "text/plain": [
       "[1] 7"
      ]
     },
     "metadata": {},
     "output_type": "display_data"
    }
   ],
   "source": [
    "length(math_score)"
   ]
  },
  {
   "cell_type": "code",
   "execution_count": 17,
   "metadata": {},
   "outputs": [
    {
     "data": {
      "text/html": [
       "580"
      ],
      "text/latex": [
       "580"
      ],
      "text/markdown": [
       "580"
      ],
      "text/plain": [
       "[1] 580"
      ]
     },
     "metadata": {},
     "output_type": "display_data"
    }
   ],
   "source": [
    "sum(math_score)"
   ]
  },
  {
   "cell_type": "markdown",
   "metadata": {},
   "source": [
    "* mean() 평균\n",
    "* sd() 표준편차 - Standard Deviation(편차)\n",
    "* min() 최소값\n",
    "* max() 최대값"
   ]
  },
  {
   "cell_type": "markdown",
   "metadata": {},
   "source": [
    "평균($\\bar{x}$) = $\\frac{1}{N}\\sum_{i}^{N}x_{i}$, 표준편차 = $\\sqrt{\\frac{1}{N}\\sum_{i}^{N}(x_{i}-\\bar{x})^{2}}$"
   ]
  },
  {
   "cell_type": "code",
   "execution_count": 18,
   "metadata": {},
   "outputs": [
    {
     "data": {
      "text/html": [
       "82.8571428571429"
      ],
      "text/latex": [
       "82.8571428571429"
      ],
      "text/markdown": [
       "82.8571428571429"
      ],
      "text/plain": [
       "[1] 82.85714"
      ]
     },
     "metadata": {},
     "output_type": "display_data"
    },
    {
     "data": {
      "text/html": [
       "18.2064875930584"
      ],
      "text/latex": [
       "18.2064875930584"
      ],
      "text/markdown": [
       "18.2064875930584"
      ],
      "text/plain": [
       "[1] 18.20649"
      ]
     },
     "metadata": {},
     "output_type": "display_data"
    },
    {
     "data": {
      "text/html": [
       "55"
      ],
      "text/latex": [
       "55"
      ],
      "text/markdown": [
       "55"
      ],
      "text/plain": [
       "[1] 55"
      ]
     },
     "metadata": {},
     "output_type": "display_data"
    },
    {
     "data": {
      "text/html": [
       "99"
      ],
      "text/latex": [
       "99"
      ],
      "text/markdown": [
       "99"
      ],
      "text/plain": [
       "[1] 99"
      ]
     },
     "metadata": {},
     "output_type": "display_data"
    }
   ],
   "source": [
    "mean(math_score)\n",
    "sd(math_score)\n",
    "min(math_score)\n",
    "max(math_score)"
   ]
  },
  {
   "cell_type": "code",
   "execution_count": 66,
   "metadata": {},
   "outputs": [
    {
     "data": {
      "image/png": "[encoded data removed]",
      "text/plain": [
       "plot without title"
      ]
     },
     "metadata": {},
     "output_type": "display_data"
    }
   ],
   "source": [
    "require(repr) #package for resizing plot\n",
    "options(repr.plot.width=4,repr.plot.height=4) #setting up options\n",
    "boxplot(math_score) #create a boxplot"
   ]
  },
  {
   "cell_type": "code",
   "execution_count": 79,
   "metadata": {},
   "outputs": [
    {
     "data": {
      "image/png": "[encoded data removed]",
      "text/plain": [
       "plot without title"
      ]
     },
     "metadata": {},
     "output_type": "display_data"
    }
   ],
   "source": [
    "par(mfrow=c(1,2)) #create 1 x 2 plotting areas\n",
    "boxplot(math_score) #put the first plot into that\n",
    "boxplot(math_score2) #next"
   ]
  },
  {
   "cell_type": "code",
   "execution_count": 20,
   "metadata": {},
   "outputs": [
    {
     "data": {
      "text/html": [
       "<ol class=list-inline>\n",
       "\t<li>95</li>\n",
       "\t<li>99</li>\n",
       "\t<li>87</li>\n",
       "\t<li>85</li>\n",
       "\t<li>99</li>\n",
       "\t<li>60</li>\n",
       "\t<li>55</li>\n",
       "</ol>\n"
      ],
      "text/latex": [
       "\\begin{enumerate*}\n",
       "\\item 95\n",
       "\\item 99\n",
       "\\item 87\n",
       "\\item 85\n",
       "\\item 99\n",
       "\\item 60\n",
       "\\item 55\n",
       "\\end{enumerate*}\n"
      ],
      "text/markdown": [
       "1. 95\n",
       "2. 99\n",
       "3. 87\n",
       "4. 85\n",
       "5. 99\n",
       "6. 60\n",
       "7. 55\n",
       "\n",
       "\n"
      ],
      "text/plain": [
       "[1] 95 99 87 85 99 60 55"
      ]
     },
     "metadata": {},
     "output_type": "display_data"
    }
   ],
   "source": [
    "math_score"
   ]
  },
  {
   "cell_type": "code",
   "execution_count": 21,
   "metadata": {
    "collapsed": true
   },
   "outputs": [],
   "source": [
    "math_score2=math_score"
   ]
  },
  {
   "cell_type": "markdown",
   "metadata": {},
   "source": [
    "데이터 복제하기, 데이터 할당하기(assignment) 그 때 쓰는 기호는 = 혹은 <-"
   ]
  },
  {
   "cell_type": "code",
   "execution_count": 22,
   "metadata": {
    "collapsed": true
   },
   "outputs": [],
   "source": [
    "math_score2 <- math_score\n",
    "math_score2<-math_score\n",
    "math_score2=math_score\n",
    "math_score2 = math_score"
   ]
  },
  {
   "cell_type": "code",
   "execution_count": 23,
   "metadata": {},
   "outputs": [
    {
     "data": {
      "text/html": [
       "<ol class=list-inline>\n",
       "\t<li>95</li>\n",
       "\t<li>99</li>\n",
       "\t<li>87</li>\n",
       "\t<li>85</li>\n",
       "\t<li>99</li>\n",
       "\t<li>60</li>\n",
       "\t<li>55</li>\n",
       "</ol>\n"
      ],
      "text/latex": [
       "\\begin{enumerate*}\n",
       "\\item 95\n",
       "\\item 99\n",
       "\\item 87\n",
       "\\item 85\n",
       "\\item 99\n",
       "\\item 60\n",
       "\\item 55\n",
       "\\end{enumerate*}\n"
      ],
      "text/markdown": [
       "1. 95\n",
       "2. 99\n",
       "3. 87\n",
       "4. 85\n",
       "5. 99\n",
       "6. 60\n",
       "7. 55\n",
       "\n",
       "\n"
      ],
      "text/plain": [
       "[1] 95 99 87 85 99 60 55"
      ]
     },
     "metadata": {},
     "output_type": "display_data"
    }
   ],
   "source": [
    "math_score2"
   ]
  },
  {
   "cell_type": "code",
   "execution_count": 24,
   "metadata": {},
   "outputs": [
    {
     "data": {
      "text/html": [
       "<ol class=list-inline>\n",
       "\t<li>95</li>\n",
       "\t<li>99</li>\n",
       "\t<li>87</li>\n",
       "\t<li>85</li>\n",
       "\t<li>99</li>\n",
       "\t<li>60</li>\n",
       "\t<li>55</li>\n",
       "</ol>\n"
      ],
      "text/latex": [
       "\\begin{enumerate*}\n",
       "\\item 95\n",
       "\\item 99\n",
       "\\item 87\n",
       "\\item 85\n",
       "\\item 99\n",
       "\\item 60\n",
       "\\item 55\n",
       "\\end{enumerate*}\n"
      ],
      "text/markdown": [
       "1. 95\n",
       "2. 99\n",
       "3. 87\n",
       "4. 85\n",
       "5. 99\n",
       "6. 60\n",
       "7. 55\n",
       "\n",
       "\n"
      ],
      "text/plain": [
       "[1] 95 99 87 85 99 60 55"
      ]
     },
     "metadata": {},
     "output_type": "display_data"
    }
   ],
   "source": [
    "math_score"
   ]
  },
  {
   "cell_type": "markdown",
   "metadata": {},
   "source": [
    "변수(자료)에 [ 와 ] 썼다. 그 사이에 숫자가 있다. 이 숫자는 index 혹은 자료의 자리, 시작은 1이다."
   ]
  },
  {
   "cell_type": "code",
   "execution_count": 25,
   "metadata": {
    "collapsed": true
   },
   "outputs": [],
   "source": [
    "math_score2[2]=92"
   ]
  },
  {
   "cell_type": "code",
   "execution_count": 26,
   "metadata": {},
   "outputs": [
    {
     "data": {
      "text/html": [
       "95"
      ],
      "text/latex": [
       "95"
      ],
      "text/markdown": [
       "95"
      ],
      "text/plain": [
       "[1] 95"
      ]
     },
     "metadata": {},
     "output_type": "display_data"
    }
   ],
   "source": [
    "math_score[1]"
   ]
  },
  {
   "cell_type": "code",
   "execution_count": 27,
   "metadata": {},
   "outputs": [
    {
     "data": {
      "text/html": [
       "99"
      ],
      "text/latex": [
       "99"
      ],
      "text/markdown": [
       "99"
      ],
      "text/plain": [
       "[1] 99"
      ]
     },
     "metadata": {},
     "output_type": "display_data"
    }
   ],
   "source": [
    "math_score[5]"
   ]
  },
  {
   "cell_type": "code",
   "execution_count": 28,
   "metadata": {},
   "outputs": [
    {
     "data": {
      "text/html": [
       "<ol class=list-inline>\n",
       "\t<li>95</li>\n",
       "\t<li>92</li>\n",
       "\t<li>87</li>\n",
       "\t<li>85</li>\n",
       "\t<li>99</li>\n",
       "\t<li>60</li>\n",
       "\t<li>55</li>\n",
       "</ol>\n"
      ],
      "text/latex": [
       "\\begin{enumerate*}\n",
       "\\item 95\n",
       "\\item 92\n",
       "\\item 87\n",
       "\\item 85\n",
       "\\item 99\n",
       "\\item 60\n",
       "\\item 55\n",
       "\\end{enumerate*}\n"
      ],
      "text/markdown": [
       "1. 95\n",
       "2. 92\n",
       "3. 87\n",
       "4. 85\n",
       "5. 99\n",
       "6. 60\n",
       "7. 55\n",
       "\n",
       "\n"
      ],
      "text/plain": [
       "[1] 95 92 87 85 99 60 55"
      ]
     },
     "metadata": {},
     "output_type": "display_data"
    }
   ],
   "source": [
    "math_score2"
   ]
  },
  {
   "cell_type": "code",
   "execution_count": 29,
   "metadata": {},
   "outputs": [
    {
     "data": {
      "text/html": [
       "<ol class=list-inline>\n",
       "\t<li>95</li>\n",
       "\t<li>99</li>\n",
       "\t<li>87</li>\n",
       "\t<li>85</li>\n",
       "\t<li>99</li>\n",
       "\t<li>60</li>\n",
       "\t<li>55</li>\n",
       "</ol>\n"
      ],
      "text/latex": [
       "\\begin{enumerate*}\n",
       "\\item 95\n",
       "\\item 99\n",
       "\\item 87\n",
       "\\item 85\n",
       "\\item 99\n",
       "\\item 60\n",
       "\\item 55\n",
       "\\end{enumerate*}\n"
      ],
      "text/markdown": [
       "1. 95\n",
       "2. 99\n",
       "3. 87\n",
       "4. 85\n",
       "5. 99\n",
       "6. 60\n",
       "7. 55\n",
       "\n",
       "\n"
      ],
      "text/plain": [
       "[1] 95 99 87 85 99 60 55"
      ]
     },
     "metadata": {},
     "output_type": "display_data"
    }
   ],
   "source": [
    "math_score"
   ]
  },
  {
   "cell_type": "code",
   "execution_count": 34,
   "metadata": {},
   "outputs": [
    {
     "data": {
      "text/html": [
       "<ol class=list-inline>\n",
       "\t<li>95</li>\n",
       "\t<li>92</li>\n",
       "\t<li>87</li>\n",
       "\t<li>85</li>\n",
       "\t<li>80</li>\n",
       "\t<li>60</li>\n",
       "\t<li>55</li>\n",
       "</ol>\n"
      ],
      "text/latex": [
       "\\begin{enumerate*}\n",
       "\\item 95\n",
       "\\item 92\n",
       "\\item 87\n",
       "\\item 85\n",
       "\\item 80\n",
       "\\item 60\n",
       "\\item 55\n",
       "\\end{enumerate*}\n"
      ],
      "text/markdown": [
       "1. 95\n",
       "2. 92\n",
       "3. 87\n",
       "4. 85\n",
       "5. 80\n",
       "6. 60\n",
       "7. 55\n",
       "\n",
       "\n"
      ],
      "text/plain": [
       "[1] 95 92 87 85 80 60 55"
      ]
     },
     "metadata": {},
     "output_type": "display_data"
    }
   ],
   "source": [
    "math_score2"
   ]
  },
  {
   "cell_type": "code",
   "execution_count": 37,
   "metadata": {},
   "outputs": [
    {
     "data": {
      "text/html": [
       "<ol class=list-inline>\n",
       "\t<li>95</li>\n",
       "\t<li>99</li>\n",
       "\t<li>87</li>\n",
       "\t<li>85</li>\n",
       "\t<li>99</li>\n",
       "\t<li>60</li>\n",
       "\t<li>55</li>\n",
       "</ol>\n"
      ],
      "text/latex": [
       "\\begin{enumerate*}\n",
       "\\item 95\n",
       "\\item 99\n",
       "\\item 87\n",
       "\\item 85\n",
       "\\item 99\n",
       "\\item 60\n",
       "\\item 55\n",
       "\\end{enumerate*}\n"
      ],
      "text/markdown": [
       "1. 95\n",
       "2. 99\n",
       "3. 87\n",
       "4. 85\n",
       "5. 99\n",
       "6. 60\n",
       "7. 55\n",
       "\n",
       "\n"
      ],
      "text/plain": [
       "[1] 95 99 87 85 99 60 55"
      ]
     },
     "metadata": {},
     "output_type": "display_data"
    }
   ],
   "source": [
    "math_score"
   ]
  },
  {
   "cell_type": "code",
   "execution_count": 38,
   "metadata": {},
   "outputs": [
    {
     "data": {
      "text/html": [
       "<ol class=list-inline>\n",
       "\t<li>95</li>\n",
       "\t<li>92</li>\n",
       "\t<li>87</li>\n",
       "\t<li>85</li>\n",
       "\t<li>80</li>\n",
       "\t<li>60</li>\n",
       "\t<li>55</li>\n",
       "</ol>\n"
      ],
      "text/latex": [
       "\\begin{enumerate*}\n",
       "\\item 95\n",
       "\\item 92\n",
       "\\item 87\n",
       "\\item 85\n",
       "\\item 80\n",
       "\\item 60\n",
       "\\item 55\n",
       "\\end{enumerate*}\n"
      ],
      "text/markdown": [
       "1. 95\n",
       "2. 92\n",
       "3. 87\n",
       "4. 85\n",
       "5. 80\n",
       "6. 60\n",
       "7. 55\n",
       "\n",
       "\n"
      ],
      "text/plain": [
       "[1] 95 92 87 85 80 60 55"
      ]
     },
     "metadata": {},
     "output_type": "display_data"
    }
   ],
   "source": [
    "math_score2"
   ]
  },
  {
   "cell_type": "code",
   "execution_count": 39,
   "metadata": {},
   "outputs": [
    {
     "data": {
      "text/html": [
       "82.8571428571429"
      ],
      "text/latex": [
       "82.8571428571429"
      ],
      "text/markdown": [
       "82.8571428571429"
      ],
      "text/plain": [
       "[1] 82.85714"
      ]
     },
     "metadata": {},
     "output_type": "display_data"
    }
   ],
   "source": [
    "mean(math_score)"
   ]
  },
  {
   "cell_type": "code",
   "execution_count": 40,
   "metadata": {},
   "outputs": [
    {
     "data": {
      "text/html": [
       "79.1428571428571"
      ],
      "text/latex": [
       "79.1428571428571"
      ],
      "text/markdown": [
       "79.1428571428571"
      ],
      "text/plain": [
       "[1] 79.14286"
      ]
     },
     "metadata": {},
     "output_type": "display_data"
    }
   ],
   "source": [
    "mean(math_score2)"
   ]
  },
  {
   "cell_type": "code",
   "execution_count": 43,
   "metadata": {
    "collapsed": true
   },
   "outputs": [],
   "source": [
    "english_score=c(40,60,35,77,90,85,74)"
   ]
  },
  {
   "cell_type": "code",
   "execution_count": 44,
   "metadata": {},
   "outputs": [
    {
     "data": {
      "text/html": [
       "<ol class=list-inline>\n",
       "\t<li>40</li>\n",
       "\t<li>60</li>\n",
       "\t<li>35</li>\n",
       "\t<li>77</li>\n",
       "\t<li>90</li>\n",
       "\t<li>85</li>\n",
       "\t<li>74</li>\n",
       "</ol>\n"
      ],
      "text/latex": [
       "\\begin{enumerate*}\n",
       "\\item 40\n",
       "\\item 60\n",
       "\\item 35\n",
       "\\item 77\n",
       "\\item 90\n",
       "\\item 85\n",
       "\\item 74\n",
       "\\end{enumerate*}\n"
      ],
      "text/markdown": [
       "1. 40\n",
       "2. 60\n",
       "3. 35\n",
       "4. 77\n",
       "5. 90\n",
       "6. 85\n",
       "7. 74\n",
       "\n",
       "\n"
      ],
      "text/plain": [
       "[1] 40 60 35 77 90 85 74"
      ]
     },
     "metadata": {},
     "output_type": "display_data"
    }
   ],
   "source": [
    "english_score"
   ]
  },
  {
   "cell_type": "code",
   "execution_count": 45,
   "metadata": {
    "collapsed": true
   },
   "outputs": [],
   "source": [
    "score_1st_class<-data.frame(math_score,english_score)"
   ]
  },
  {
   "cell_type": "markdown",
   "metadata": {},
   "source": [
    "### 데이터 프레임이란?\n",
    "* 자료형인데, 여러 벡터를 합쳐놓은 것\n",
    "* DataFrame, data.frame 이렇게 쓰기도 함, R에서는 data.frame()\n",
    "\n",
    "#### 데이터 프레임을 만드는 방법\n",
    "* 가장 간단한 방법은 벡터를 합치는 방법\n",
    "```{r}\n",
    "v1=c(...)\n",
    "v2=c(...)\n",
    "v3=c(...)\n",
    "data.frame(v1,v2,v3)\n",
    "```"
   ]
  },
  {
   "cell_type": "code",
   "execution_count": 46,
   "metadata": {},
   "outputs": [
    {
     "data": {
      "text/html": [
       "<table>\n",
       "<thead><tr><th scope=col>math_score</th><th scope=col>english_score</th></tr></thead>\n",
       "<tbody>\n",
       "\t<tr><td>95</td><td>40</td></tr>\n",
       "\t<tr><td>99</td><td>60</td></tr>\n",
       "\t<tr><td>87</td><td>35</td></tr>\n",
       "\t<tr><td>85</td><td>77</td></tr>\n",
       "\t<tr><td>99</td><td>90</td></tr>\n",
       "\t<tr><td>60</td><td>85</td></tr>\n",
       "\t<tr><td>55</td><td>74</td></tr>\n",
       "</tbody>\n",
       "</table>\n"
      ],
      "text/latex": [
       "\\begin{tabular}{r|ll}\n",
       " math\\_score & english\\_score\\\\\n",
       "\\hline\n",
       "\t 95 & 40\\\\\n",
       "\t 99 & 60\\\\\n",
       "\t 87 & 35\\\\\n",
       "\t 85 & 77\\\\\n",
       "\t 99 & 90\\\\\n",
       "\t 60 & 85\\\\\n",
       "\t 55 & 74\\\\\n",
       "\\end{tabular}\n"
      ],
      "text/markdown": [
       "\n",
       "math_score | english_score | \n",
       "|---|---|---|---|---|---|---|\n",
       "| 95 | 40 | \n",
       "| 99 | 60 | \n",
       "| 87 | 35 | \n",
       "| 85 | 77 | \n",
       "| 99 | 90 | \n",
       "| 60 | 85 | \n",
       "| 55 | 74 | \n",
       "\n",
       "\n"
      ],
      "text/plain": [
       "  math_score english_score\n",
       "1 95         40           \n",
       "2 99         60           \n",
       "3 87         35           \n",
       "4 85         77           \n",
       "5 99         90           \n",
       "6 60         85           \n",
       "7 55         74           "
      ]
     },
     "metadata": {},
     "output_type": "display_data"
    }
   ],
   "source": [
    "score_1st_class"
   ]
  },
  {
   "cell_type": "markdown",
   "metadata": {},
   "source": [
    "제목을 정해주기"
   ]
  },
  {
   "cell_type": "code",
   "execution_count": 47,
   "metadata": {
    "collapsed": true
   },
   "outputs": [],
   "source": [
    "score_1st_class<-data.frame(Math=math_score,English=english_score)"
   ]
  },
  {
   "cell_type": "code",
   "execution_count": 48,
   "metadata": {},
   "outputs": [
    {
     "data": {
      "text/html": [
       "<table>\n",
       "<thead><tr><th scope=col>Math</th><th scope=col>English</th></tr></thead>\n",
       "<tbody>\n",
       "\t<tr><td>95</td><td>40</td></tr>\n",
       "\t<tr><td>99</td><td>60</td></tr>\n",
       "\t<tr><td>87</td><td>35</td></tr>\n",
       "\t<tr><td>85</td><td>77</td></tr>\n",
       "\t<tr><td>99</td><td>90</td></tr>\n",
       "\t<tr><td>60</td><td>85</td></tr>\n",
       "\t<tr><td>55</td><td>74</td></tr>\n",
       "</tbody>\n",
       "</table>\n"
      ],
      "text/latex": [
       "\\begin{tabular}{r|ll}\n",
       " Math & English\\\\\n",
       "\\hline\n",
       "\t 95 & 40\\\\\n",
       "\t 99 & 60\\\\\n",
       "\t 87 & 35\\\\\n",
       "\t 85 & 77\\\\\n",
       "\t 99 & 90\\\\\n",
       "\t 60 & 85\\\\\n",
       "\t 55 & 74\\\\\n",
       "\\end{tabular}\n"
      ],
      "text/markdown": [
       "\n",
       "Math | English | \n",
       "|---|---|---|---|---|---|---|\n",
       "| 95 | 40 | \n",
       "| 99 | 60 | \n",
       "| 87 | 35 | \n",
       "| 85 | 77 | \n",
       "| 99 | 90 | \n",
       "| 60 | 85 | \n",
       "| 55 | 74 | \n",
       "\n",
       "\n"
      ],
      "text/plain": [
       "  Math English\n",
       "1 95   40     \n",
       "2 99   60     \n",
       "3 87   35     \n",
       "4 85   77     \n",
       "5 99   90     \n",
       "6 60   85     \n",
       "7 55   74     "
      ]
     },
     "metadata": {},
     "output_type": "display_data"
    }
   ],
   "source": [
    "score_1st_class"
   ]
  },
  {
   "cell_type": "markdown",
   "metadata": {},
   "source": [
    "쌍대괄호 [[ ]] 이것은 vector를 의미"
   ]
  },
  {
   "cell_type": "code",
   "execution_count": 49,
   "metadata": {},
   "outputs": [
    {
     "data": {
      "text/html": [
       "82.8571428571429"
      ],
      "text/latex": [
       "82.8571428571429"
      ],
      "text/markdown": [
       "82.8571428571429"
      ],
      "text/plain": [
       "[1] 82.85714"
      ]
     },
     "metadata": {},
     "output_type": "display_data"
    }
   ],
   "source": [
    "mean(score_1st_class[[1]])"
   ]
  },
  {
   "cell_type": "code",
   "execution_count": 50,
   "metadata": {},
   "outputs": [
    {
     "data": {
      "text/html": [
       "65.8571428571429"
      ],
      "text/latex": [
       "65.8571428571429"
      ],
      "text/markdown": [
       "65.8571428571429"
      ],
      "text/plain": [
       "[1] 65.85714"
      ]
     },
     "metadata": {},
     "output_type": "display_data"
    }
   ],
   "source": [
    "mean(score_1st_class[[2]])"
   ]
  },
  {
   "cell_type": "markdown",
   "metadata": {},
   "source": [
    "함수 write.csv()는 Comma Seperated Value 형식으로 데이터를 파일에 쓰게 함\n",
    "\n",
    "CSV형식은 Excel에서 읽을 수 있다.\n",
    "\n",
    "write.csv(데이터 프레임, file=\"파일이름.csv\")\n",
    "\n",
    "추가적으로 row.names=FALSE 할 수 있다. 의미는 행 이름을 쓰지 마라."
   ]
  },
  {
   "cell_type": "code",
   "execution_count": 52,
   "metadata": {
    "collapsed": true
   },
   "outputs": [],
   "source": [
    "write.csv(score_1st_class,file=\"score_of_1st_class.csv\")"
   ]
  },
  {
   "cell_type": "code",
   "execution_count": 53,
   "metadata": {
    "collapsed": true
   },
   "outputs": [],
   "source": [
    "write.csv(score_1st_class,file=\"score_of_1st_class.ㄴcsv\",row.names=FALSE)"
   ]
  },
  {
   "cell_type": "code",
   "execution_count": 54,
   "metadata": {
    "collapsed": true
   },
   "outputs": [],
   "source": [
    "score_of_1st_class_b=read.csv(file=\"score_of_1st_class_b.csv\")"
   ]
  },
  {
   "cell_type": "code",
   "execution_count": 55,
   "metadata": {},
   "outputs": [
    {
     "data": {
      "text/html": [
       "<table>\n",
       "<thead><tr><th scope=col>Math</th><th scope=col>English</th><th scope=col>Science</th></tr></thead>\n",
       "<tbody>\n",
       "\t<tr><td>95</td><td>40</td><td>70</td></tr>\n",
       "\t<tr><td>99</td><td>60</td><td>60</td></tr>\n",
       "\t<tr><td>87</td><td>35</td><td>35</td></tr>\n",
       "\t<tr><td>85</td><td>77</td><td>77</td></tr>\n",
       "\t<tr><td>99</td><td>90</td><td>80</td></tr>\n",
       "\t<tr><td>60</td><td>85</td><td>85</td></tr>\n",
       "\t<tr><td>55</td><td>74</td><td>64</td></tr>\n",
       "</tbody>\n",
       "</table>\n"
      ],
      "text/latex": [
       "\\begin{tabular}{r|lll}\n",
       " Math & English & Science\\\\\n",
       "\\hline\n",
       "\t 95 & 40 & 70\\\\\n",
       "\t 99 & 60 & 60\\\\\n",
       "\t 87 & 35 & 35\\\\\n",
       "\t 85 & 77 & 77\\\\\n",
       "\t 99 & 90 & 80\\\\\n",
       "\t 60 & 85 & 85\\\\\n",
       "\t 55 & 74 & 64\\\\\n",
       "\\end{tabular}\n"
      ],
      "text/markdown": [
       "\n",
       "Math | English | Science | \n",
       "|---|---|---|---|---|---|---|\n",
       "| 95 | 40 | 70 | \n",
       "| 99 | 60 | 60 | \n",
       "| 87 | 35 | 35 | \n",
       "| 85 | 77 | 77 | \n",
       "| 99 | 90 | 80 | \n",
       "| 60 | 85 | 85 | \n",
       "| 55 | 74 | 64 | \n",
       "\n",
       "\n"
      ],
      "text/plain": [
       "  Math English Science\n",
       "1 95   40      70     \n",
       "2 99   60      60     \n",
       "3 87   35      35     \n",
       "4 85   77      77     \n",
       "5 99   90      80     \n",
       "6 60   85      85     \n",
       "7 55   74      64     "
      ]
     },
     "metadata": {},
     "output_type": "display_data"
    }
   ],
   "source": [
    "score_of_1st_class_b"
   ]
  },
  {
   "cell_type": "code",
   "execution_count": 56,
   "metadata": {
    "collapsed": true
   },
   "outputs": [],
   "source": [
    "my_data=read.csv(file=\"my_sample_data.csv\")"
   ]
  },
  {
   "cell_type": "code",
   "execution_count": 57,
   "metadata": {},
   "outputs": [
    {
     "data": {
      "text/html": [
       "<table>\n",
       "<thead><tr><th scope=col>V1</th><th scope=col>V2</th><th scope=col>V3</th></tr></thead>\n",
       "<tbody>\n",
       "\t<tr><td>1</td><td>3</td><td>4</td></tr>\n",
       "\t<tr><td>1</td><td>3</td><td>3</td></tr>\n",
       "\t<tr><td>2</td><td>1</td><td>4</td></tr>\n",
       "\t<tr><td>3</td><td>7</td><td>5</td></tr>\n",
       "\t<tr><td>4</td><td>6</td><td>2</td></tr>\n",
       "\t<tr><td>5</td><td>4</td><td>3</td></tr>\n",
       "\t<tr><td>3</td><td>3</td><td>2</td></tr>\n",
       "\t<tr><td>2</td><td>2</td><td>1</td></tr>\n",
       "\t<tr><td>1</td><td>1</td><td>4</td></tr>\n",
       "</tbody>\n",
       "</table>\n"
      ],
      "text/latex": [
       "\\begin{tabular}{r|lll}\n",
       " V1 & V2 & V3\\\\\n",
       "\\hline\n",
       "\t 1 & 3 & 4\\\\\n",
       "\t 1 & 3 & 3\\\\\n",
       "\t 2 & 1 & 4\\\\\n",
       "\t 3 & 7 & 5\\\\\n",
       "\t 4 & 6 & 2\\\\\n",
       "\t 5 & 4 & 3\\\\\n",
       "\t 3 & 3 & 2\\\\\n",
       "\t 2 & 2 & 1\\\\\n",
       "\t 1 & 1 & 4\\\\\n",
       "\\end{tabular}\n"
      ],
      "text/markdown": [
       "\n",
       "V1 | V2 | V3 | \n",
       "|---|---|---|---|---|---|---|---|---|\n",
       "| 1 | 3 | 4 | \n",
       "| 1 | 3 | 3 | \n",
       "| 2 | 1 | 4 | \n",
       "| 3 | 7 | 5 | \n",
       "| 4 | 6 | 2 | \n",
       "| 5 | 4 | 3 | \n",
       "| 3 | 3 | 2 | \n",
       "| 2 | 2 | 1 | \n",
       "| 1 | 1 | 4 | \n",
       "\n",
       "\n"
      ],
      "text/plain": [
       "  V1 V2 V3\n",
       "1 1  3  4 \n",
       "2 1  3  3 \n",
       "3 2  1  4 \n",
       "4 3  7  5 \n",
       "5 4  6  2 \n",
       "6 5  4  3 \n",
       "7 3  3  2 \n",
       "8 2  2  1 \n",
       "9 1  1  4 "
      ]
     },
     "metadata": {},
     "output_type": "display_data"
    }
   ],
   "source": [
    "my_data"
   ]
  },
  {
   "cell_type": "markdown",
   "metadata": {},
   "source": [
    "save()는 RData 저장하기"
   ]
  },
  {
   "cell_type": "code",
   "execution_count": 58,
   "metadata": {
    "collapsed": true
   },
   "outputs": [],
   "source": [
    "save(my_data,file=\"my_data.RData\")"
   ]
  },
  {
   "cell_type": "markdown",
   "metadata": {},
   "source": [
    "rm()은 메모리에서 데이터를 지운다."
   ]
  },
  {
   "cell_type": "code",
   "execution_count": 59,
   "metadata": {
    "collapsed": true
   },
   "outputs": [],
   "source": [
    "rm(my_data)"
   ]
  },
  {
   "cell_type": "code",
   "execution_count": 60,
   "metadata": {},
   "outputs": [
    {
     "ename": "ERROR",
     "evalue": "Error in eval(expr, envir, enclos): object 'my_data' not found\n",
     "output_type": "error",
     "traceback": [
      "Error in eval(expr, envir, enclos): object 'my_data' not found\nTraceback:\n"
     ]
    }
   ],
   "source": [
    "my_data"
   ]
  },
  {
   "cell_type": "markdown",
   "metadata": {},
   "source": [
    "load()는 RData 불러오기"
   ]
  },
  {
   "cell_type": "code",
   "execution_count": 61,
   "metadata": {
    "collapsed": true
   },
   "outputs": [],
   "source": [
    "load(file=\"my_data.RData\")"
   ]
  },
  {
   "cell_type": "code",
   "execution_count": 62,
   "metadata": {},
   "outputs": [
    {
     "data": {
      "text/html": [
       "<table>\n",
       "<thead><tr><th scope=col>V1</th><th scope=col>V2</th><th scope=col>V3</th></tr></thead>\n",
       "<tbody>\n",
       "\t<tr><td>1</td><td>3</td><td>4</td></tr>\n",
       "\t<tr><td>1</td><td>3</td><td>3</td></tr>\n",
       "\t<tr><td>2</td><td>1</td><td>4</td></tr>\n",
       "\t<tr><td>3</td><td>7</td><td>5</td></tr>\n",
       "\t<tr><td>4</td><td>6</td><td>2</td></tr>\n",
       "\t<tr><td>5</td><td>4</td><td>3</td></tr>\n",
       "\t<tr><td>3</td><td>3</td><td>2</td></tr>\n",
       "\t<tr><td>2</td><td>2</td><td>1</td></tr>\n",
       "\t<tr><td>1</td><td>1</td><td>4</td></tr>\n",
       "</tbody>\n",
       "</table>\n"
      ],
      "text/latex": [
       "\\begin{tabular}{r|lll}\n",
       " V1 & V2 & V3\\\\\n",
       "\\hline\n",
       "\t 1 & 3 & 4\\\\\n",
       "\t 1 & 3 & 3\\\\\n",
       "\t 2 & 1 & 4\\\\\n",
       "\t 3 & 7 & 5\\\\\n",
       "\t 4 & 6 & 2\\\\\n",
       "\t 5 & 4 & 3\\\\\n",
       "\t 3 & 3 & 2\\\\\n",
       "\t 2 & 2 & 1\\\\\n",
       "\t 1 & 1 & 4\\\\\n",
       "\\end{tabular}\n"
      ],
      "text/markdown": [
       "\n",
       "V1 | V2 | V3 | \n",
       "|---|---|---|---|---|---|---|---|---|\n",
       "| 1 | 3 | 4 | \n",
       "| 1 | 3 | 3 | \n",
       "| 2 | 1 | 4 | \n",
       "| 3 | 7 | 5 | \n",
       "| 4 | 6 | 2 | \n",
       "| 5 | 4 | 3 | \n",
       "| 3 | 3 | 2 | \n",
       "| 2 | 2 | 1 | \n",
       "| 1 | 1 | 4 | \n",
       "\n",
       "\n"
      ],
      "text/plain": [
       "  V1 V2 V3\n",
       "1 1  3  4 \n",
       "2 1  3  3 \n",
       "3 2  1  4 \n",
       "4 3  7  5 \n",
       "5 4  6  2 \n",
       "6 5  4  3 \n",
       "7 3  3  2 \n",
       "8 2  2  1 \n",
       "9 1  1  4 "
      ]
     },
     "metadata": {},
     "output_type": "display_data"
    }
   ],
   "source": [
    "my_data"
   ]
  },
  {
   "cell_type": "code",
   "execution_count": null,
   "metadata": {
    "collapsed": true
   },
   "outputs": [],
   "source": []
  }
 ],
 "metadata": {
  "kernelspec": {
   "display_name": "R",
   "language": "R",
   "name": "ir"
  },
  "language_info": {
   "codemirror_mode": "r",
   "file_extension": ".r",
   "mimetype": "text/x-r-source",
   "name": "R",
   "pygments_lexer": "r",
   "version": "3.3.2"
  }
 },
 "nbformat": 4,
 "nbformat_minor": 2
}
